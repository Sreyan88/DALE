{
 "cells": [
  {
   "cell_type": "code",
   "execution_count": 37,
   "metadata": {},
   "outputs": [],
   "source": [
    "import lmppl\n",
    "import pandas as pd\n",
    "import time\n",
    "from nltk.tokenize import sent_tokenize\n",
    "from tqdm.auto import tqdm\n",
    "scorer = lmppl.OpenAI(api_key=\"\", model=\"ada\", sleep_time=0)"
   ]
  },
  {
   "cell_type": "code",
   "execution_count": null,
   "metadata": {},
   "outputs": [],
   "source": [
    "path = \"./low_res/{}/lexglue/eda/{}_train.tsv\"\n",
    "\n",
    "dataset_to_col_name_mapping = {\n",
    "    \"ledgar\": \"text\",\n",
    "    \"scotus\": \"text\",\n",
    "    \"ildc\": \"text\",\n",
    "    \"ots\": \"text\",\n",
    "    \"ots_topics\": \"0\",\n",
    "    \"case_hold\": \"context\",\n",
    "    \"ecthr_a\": \"0\",\n",
    "    \"ecthr_b\": \"0\",\n",
    "    \"eurlex\": \"0\",\n",
    "    \"unfair_tos\": \"0\"\n",
    "}\n",
    "\n",
    "def truncate_1500(text_list):\n",
    "    final_list = []\n",
    "    for text in (text_list):\n",
    "        sentences = sent_tokenize(text)\n",
    "        final_sent = ''\n",
    "        for sent in sentences:\n",
    "            if len(final_sent + sent) <= 1500:\n",
    "                final_sent = final_sent + sent\n",
    "            else:\n",
    "                break\n",
    "        if (len(final_sent)==0):\n",
    "            final_sent = sentences[0][:1500]\n",
    "        final_list.append(final_sent)\n",
    "    \n",
    "    return final_list\n",
    "\n",
    "ppl_list = []\n",
    "\n",
    "# for split in [500]:\n",
    "for split in [200, 500, 1000]:\n",
    "    for dataset in [\"ledgar\", \"scotus\", \"ecthr_a\", \"ecthr_b\", \"eurlex\", \"case_hold\"]:\n",
    "    # for dataset in [\"ecthr_b\"]:\n",
    "        try:\n",
    "            actual_path = path.format(split, dataset)\n",
    "            df = pd.read_csv(actual_path, sep=\"\\t\", header=0)\n",
    "            text = df[dataset_to_col_name_mapping[dataset]]\n",
    "            text = truncate_1500(text)\n",
    "            ppl = scorer.get_perplexity(text)\n",
    "            print(f\"For split : {split}, the avg score for dataset : {dataset} is {sum(ppl)/len(ppl)}\")\n",
    "            ppl_list.append(ppl)\n",
    "            time.sleep(10)\n",
    "        except Exception as ex:\n",
    "            print(f\"For split {split}, dataset {dataset} encountered exception : {ex}\")"
   ]
  }
 ],
 "metadata": {
  "kernelspec": {
   "display_name": "Python 3",
   "language": "python",
   "name": "python3"
  },
  "language_info": {
   "codemirror_mode": {
    "name": "ipython",
    "version": 3
   },
   "file_extension": ".py",
   "mimetype": "text/x-python",
   "name": "python",
   "nbconvert_exporter": "python",
   "pygments_lexer": "ipython3",
   "version": "3.8.16"
  },
  "orig_nbformat": 4
 },
 "nbformat": 4,
 "nbformat_minor": 2
}
