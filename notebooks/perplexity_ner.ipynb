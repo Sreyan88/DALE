{
 "cells": [
  {
   "cell_type": "code",
   "execution_count": null,
   "metadata": {},
   "outputs": [],
   "source": [
    "import lmppl\n",
    "import pandas as pd\n",
    "import time\n",
    "from nltk.tokenize import sent_tokenize\n",
    "from tqdm.auto import tqdm\n",
    "scorer = lmppl.OpenAI(api_key=\"\", model=\"ada\", sleep_time=0)"
   ]
  },
  {
   "cell_type": "code",
   "execution_count": null,
   "metadata": {},
   "outputs": [],
   "source": [
    "path = \"./{}/edgar/{}/train.conll\"\n",
    "\n",
    "dataset_to_col_name_mapping = {\n",
    "    \"ledgar\": \"text\",\n",
    "    \"scotus\": \"text\",\n",
    "    \"ildc\": \"text\",\n",
    "    \"ots\": \"text\",\n",
    "    \"ots_topics\": \"0\",\n",
    "    \"case_hold\": \"text\",\n",
    "    \"ecthr_a\": \"0\",\n",
    "    \"ecthr_b\": \"0\",\n",
    "    \"eurlex\": \"0\",\n",
    "    \"unfair_tos\": \"0\"\n",
    "}\n",
    "\n",
    "def create_sentences(file):\n",
    "    sentences = []\n",
    "    file = open(file,\"r\")\n",
    "    lines = file.readlines()\n",
    "    sentence = \"\"\n",
    "    for line in lines:\n",
    "        line = line.strip()\n",
    "        if line and len(line) > 0:\n",
    "            if len(line.split('\\t')) == 2:\n",
    "                tok, _ = line.split('\\t')\n",
    "                sentence  = sentence + tok + \" \"\n",
    "        elif sentence:\n",
    "            # print(sentence)\n",
    "            sentences.append(sentence)\n",
    "            sentence = \"\"\n",
    "    # print(sentences)\n",
    "    if sentence:\n",
    "        sentences.append(sentence)\n",
    "    return sentences\n",
    "\n",
    "ppl_list = []\n",
    "\n",
    "for split in [200, 500]:\n",
    "# for split in [200, 500, 1000]:\n",
    "    # for dataset in [\"ledgar\", \"scotus\", \"case_hold\", \"ecthr_a\", \"ecthr_b\", \"eurlex\"]:\n",
    "    for dataset in [\"legal_bart\", \"facebook_bart\", \"pretrained_bart\", \"genius\", \"lwtr\", \"mr\", \"promda\"]:\n",
    "        try:\n",
    "            actual_path = path.format(split, dataset)\n",
    "            text = create_sentences(actual_path)\n",
    "            ppl = scorer.get_perplexity(text)\n",
    "            print(f\"For split : {split}, the avg score for dataset : {dataset} is {sum(ppl)/len(ppl)}\")\n",
    "            ppl_list.append(ppl)\n",
    "            time.sleep(10)\n",
    "        except Exception as ex:\n",
    "            print(f\"For split {split}, dataset {dataset} encountered exception : {ex}\")"
   ]
  }
 ],
 "metadata": {
  "kernelspec": {
   "display_name": "Python 3",
   "language": "python",
   "name": "python3"
  },
  "language_info": {
   "codemirror_mode": {
    "name": "ipython",
    "version": 3
   },
   "file_extension": ".py",
   "mimetype": "text/x-python",
   "name": "python",
   "nbconvert_exporter": "python",
   "pygments_lexer": "ipython3",
   "version": "3.8.16"
  },
  "orig_nbformat": 4
 },
 "nbformat": 4,
 "nbformat_minor": 2
}
